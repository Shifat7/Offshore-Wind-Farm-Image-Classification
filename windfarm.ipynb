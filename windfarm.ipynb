{
 "cells": [
  {
   "attachments": {},
   "cell_type": "markdown",
   "metadata": {},
   "source": [
    "The notebook downloads Sentinel-1 RTC (Radiometrically Terrain Corrected) data and processes it over the specified bounding box. In this example, the bounding box is from a coast off Germany. The RTC achieves this by analyzing the light reflected back from the objects to the satellite sensor.\n",
    "\n",
    "*Disclaimer*: This notebook must run on the Microsoft Planetary Computer and the code is built upon this repo: https://gist.github.com/calebrob6/364506877a0ed011bb51a707fbc13ff3"
   ]
  },
  {
   "cell_type": "code",
   "execution_count": 2,
   "metadata": {},
   "outputs": [],
   "source": [
    "import os\n",
    "\n",
    "import matplotlib.pyplot as plt\n",
    "import numpy as np\n",
    "import rasterio\n",
    "import rasterio.features\n",
    "import pystac_client\n",
    "import planetary_computer as pc\n",
    "import stackstac\n",
    "import rtree\n",
    "import fiona\n",
    "import fiona.transform\n",
    "import shapely.geometry\n",
    "\n",
    "from IPython.display import Image\n"
   ]
  },
  {
   "attachments": {},
   "cell_type": "markdown",
   "metadata": {},
   "source": [
    "*Importing these libraries enable the handling of satellite imagery:*\n",
    "rasterio- reading, writing geospatial data\n",
    "stackstac- stacking STAC (SpatioTemporal Asset Catalog) items into an xarray.Dataset\n",
    "shapely- providing geometric objects and operations on them\n",
    "fiona- used for reading and writing geospatial vector data\n",
    "numpy- general data processing"
   ]
  },
  {
   "cell_type": "code",
   "execution_count": 3,
   "metadata": {},
   "outputs": [
    {
     "name": "stdout",
     "output_type": "stream",
     "text": [
      "Found 20 items\n"
     ]
    },
    {
     "data": {
      "text/html": [
       "<img src=\"https://planetarycomputer.microsoft.com/api/data/v1/item/preview.png?collection=sentinel-1-rtc&item=S1A_IW_GRDH_1SDV_20220818T172552_20220818T172617_044610_05532E_rtc&assets=vv&assets=vh&tile_format=png&expression=0.03+%2B+log+%2810e-4+-+log+%280.05+%2F+%280.02+%2B+2+%2A+vv%29%29%29%3B0.05+%2B+exp+%280.25+%2A+%28log+%280.01+%2B+2+%2A+vv%29+%2B+log+%280.02+%2B+5+%2A+vh%29%29%29%3B1+-+log+%280.05+%2F+%280.045+-+0.9+%2A+vv%29%29&asset_as_band=True&rescale=0%2C.8000&rescale=0%2C1.000&rescale=0%2C1.000&format=png\"/>"
      ],
      "text/plain": [
       "<IPython.core.display.Image object>"
      ]
     },
     "execution_count": 3,
     "metadata": {},
     "output_type": "execute_result"
    }
   ],
   "source": [
    "\n",
    "bbox = [5.7458, 53.7594, 7.1686, 54.1994]  # off the north coast of Germany\n",
    "# for more time steps of over same area\n",
    "date_ranges = [\"2022-07-19/2022-08-19\", \"2022-06-19/2022-07-19\", \"2022-05-19/2022-06-19\", \"2022-04-19/2022-05-19\"]\n",
    "\n",
    "catalog = pystac_client.Client.open(\n",
    "    \"https://planetarycomputer.microsoft.com/api/stac/v1\"\n",
    ")\n",
    "search = catalog.search(\n",
    "    collections=[\"sentinel-1-rtc\"], bbox=bbox, datetime=date_ranges\n",
    ")\n",
    "items = search.item_collection()\n",
    "print(f\"Found {len(items)} items\")\n",
    "item = items[0]\n",
    "\n",
    "Image(url=item.assets[\"rendered_preview\"].href)\n"
   ]
  },
  {
   "attachments": {},
   "cell_type": "markdown",
   "metadata": {},
   "source": [
    "Using the pystac_client and planetary_computer libraries, the script connects to Microsoft's Planetary Computer STAC API, and fetches Sentinel-1 RTC (Radar Topography Mission) data for the defined bounding box and for a specific period and displays the raw satellite image."
   ]
  },
  {
   "cell_type": "code",
   "execution_count": null,
   "metadata": {},
   "outputs": [],
   "source": [
    "ds = stackstac.stack(\n",
    "    pc.sign(items), bounds_latlon=bbox, epsg=item.properties['proj:epsg'], resolution=10\n",
    ")\n",
    "ds"
   ]
  },
  {
   "cell_type": "markdown",
   "metadata": {},
   "source": [
    "The images collection (which are multiple images covering the same area at different times) is stacked into a single 3D array (like a cube of images). Each slice of this cube is an image from a different time. The cube is then converted to a 2D array by taking the mean of the cube along the time dimension. This is called temporal mean compositing. The resulting image is a single image that represents the average of all the images in the cube. This is done to reduce the noise in the image."
   ]
  },
  {
   "cell_type": "code",
   "execution_count": null,
   "metadata": {},
   "outputs": [],
   "source": [
    "\n",
    "img = ds[0,0].values\n",
    "plt.figure(figsize=(13.5,7.5))\n",
    "plt.imshow(np.log(img), vmax=-3)\n",
    "plt.title(\"VV polarization\", fontsize=15)\n",
    "plt.axis(\"off\")\n",
    "plt.show()\n",
    "plt.close()"
   ]
  },
  {
   "attachments": {},
   "cell_type": "markdown",
   "metadata": {},
   "source": [
    "Create a figure by extracting the first band from the xarray.Dataset and then display the logarithm of the image values. This can be useful to spot differences in reflectivity that could be due to different types of objects on the ground."
   ]
  },
  {
   "cell_type": "code",
   "execution_count": null,
   "metadata": {},
   "outputs": [],
   "source": [
    "plt.figure(figsize=(13.5,7.5))\n",
    "plt.imshow(img, vmax=0.1)\n",
    "plt.title(\"VV polarization\", fontsize=15)\n",
    "plt.axis(\"off\")\n",
    "plt.show()\n",
    "plt.close()\n",
    "\n",
    "mask = ds > 0.3\n",
    "mask_nan = ds.notnull()\n",
    "vals = (mask & mask_nan).sum(axis=(0,1), dtype=float) / mask_nan.sum(axis=(0,1), dtype=float)"
   ]
  },
  {
   "attachments": {},
   "cell_type": "markdown",
   "metadata": {},
   "source": [
    "Then create a binary mask of pixels where the reflectivity is greater than 0.3.\n",
    "Another mask to exclude any Not a Number values in the dataset.\n",
    "Then apply the mask to the image and display the masked image."
   ]
  },
  {
   "cell_type": "code",
   "execution_count": null,
   "metadata": {},
   "outputs": [],
   "source": [
    "%%time\n",
    "vals = vals.compute()"
   ]
  },
  {
   "attachments": {},
   "cell_type": "markdown",
   "metadata": {},
   "source": [
    "Then compute the fraction of true pixels where the reflectivity is greater than 0.3. This is the fraction of pixels that are not water."
   ]
  },
  {
   "cell_type": "code",
   "execution_count": null,
   "metadata": {},
   "outputs": [],
   "source": [
    "plt.figure(figsize=(13.5,7.5))\n",
    "plt.imshow(vals, vmin=0, vmax=0.3)\n",
    "plt.title(\"Fraction of observations in which a pixel has value > 0.3\", fontsize=15)\n",
    "plt.axis(\"off\")\n",
    "plt.show()\n",
    "plt.close()"
   ]
  },
  {
   "attachments": {},
   "cell_type": "markdown",
   "metadata": {},
   "source": [
    "Now compute a binary mask of pixels where the reflectivity is greater than a specified threshold (0.3 in this case). The mask is True where the condition is met and False otherwise."
   ]
  },
  {
   "cell_type": "code",
   "execution_count": null,
   "metadata": {},
   "outputs": [],
   "source": [
    "# Modifying this list to include the dates for persistent polygons\n",
    "date_ranges = [\"2022-07-19/2022-08-19\", \"2022-06-19/2022-07-19\", \"2022-05-19/2022-06-19\"]\n",
    "\n",
    "persisting_polygons = []\n",
    "persisting_features = []\n",
    "elongation_threshold = 2.75 # more adjusting needed\n",
    "\n",
    "\n",
    "for date_range in date_ranges:\n",
    "    # repeat the search and polygon extraction process for each date range\n",
    "    search = catalog.search(\n",
    "        collections=[\"sentinel-1-rtc\"], bbox=bbox, datetime=date_range\n",
    "    )\n",
    "    items = search.item_collection()\n",
    "    print(f\"Found {len(items)} items\")\n",
    "    \n",
    "    # Stack all the items together into a single DataArray\n",
    "    ds = stackstac.stack(\n",
    "        pc.sign(items), bounds_latlon=bbox, epsg=item.properties['proj:epsg'], resolution=10\n",
    "    )\n",
    "\n",
    "    img = ds[0,0].values\n",
    "    # apply threshold\n",
    "    mask = ds > 0.3\n",
    "    mask_nan = ds.notnull()\n",
    "    vals = (mask & mask_nan).sum(axis=(0,1), dtype=float) / mask_nan.sum(axis=(0,1), dtype=float)\n",
    "\n",
    "    # creating binary image based on threshold\n",
    "    with rasterio.open(\"output_threshold.tif\", \"w\", **profile) as f:\n",
    "        f.write((vals>=0.3).astype(np.uint8), 1)\n",
    "\n",
    "    # Extracting the polygons from the binary image\n",
    "    features = []\n",
    "    shapes = []\n",
    "    original_shapes = []\n",
    "    areas = []\n",
    "    idx = rtree.index.Index()\n",
    "    i = 0\n",
    "    num_thrown_away = 0\n",
    "    with rasterio.open(\"output_threshold.tif\") as f:\n",
    "        t_features = list(rasterio.features.dataset_features(f, with_nodata=True, geographic=True))\n",
    "        for feature in t_features:\n",
    "            geom = fiona.transform.transform_geom(\"epsg:4326\", \"epsg:3857\", feature[\"geometry\"])\n",
    "            shape = shapely.geometry.shape(geom)\n",
    "            area = shape.area\n",
    "            compactness = shape.length**2 / (4 * np.pi * area)\n",
    "            \n",
    "            if feature[\"properties\"][\"val\"] == 1 and compactness > elongation_threshold:\n",
    "                feature[\"properties\"][\"area\"] = shape.area\n",
    "                feature[\"properties\"][\"idx\"] = i\n",
    "                features.append(feature)\n",
    "                areas.append(shape.area)\n",
    "                shapes.append(shape)\n",
    "                idx.insert(id=i, coordinates=shape.bounds)\n",
    "                i += 1\n",
    "            else:\n",
    "                num_thrown_away += 1\n",
    "    print(f\"Throwing away {num_thrown_away} polygons\")\n",
    "\n",
    "    # Merge polygons that are closer than a certain distance\n",
    "    merges = set()\n",
    "    merge_sets = dict()\n",
    "    for i, src_shape in enumerate(shapes):\n",
    "        if i not in merges:\n",
    "            to_merge = set([i])\n",
    "            for j in idx.nearest(src_shape.bounds, num_results=10):\n",
    "                dst_shape = shapes[j]\n",
    "                distance = src_shape.distance(dst_shape)\n",
    "                if i !=j and distance < 100:\n",
    "                    to_merge.add(j)\n",
    "                    merges.add(j)\n",
    "            if len(to_merge) > 1:\n",
    "                merge_sets[i] = to_merge\n",
    "\n",
    "    # Create new features after merging\n",
    "    new_features = []\n",
    "    new_shapes = []\n",
    "    for i, shape in enumerate(shapes):\n",
    "        if i in merge_sets:        \n",
    "            merge_shapes = [\n",
    "                shapes[j]\n",
    "                for j in merge_sets[i]\n",
    "            ]\n",
    "            new_shape = shapely.geometry.MultiPolygon(merge_shapes).convex_hull\n",
    "\n",
    "            geom = shapely.geometry.mapping(new_shape)\n",
    "            geom = fiona.transform.transform_geom(\"epsg:3857\", \"epsg:4326\", geom)\n",
    "\n",
    "            new_feature = features[i]\n",
    "            new_feature[\"properties\"][\"area\"] = new_shape.area\n",
    "            new_feature[\"geometry\"] = geom\n",
    "            new_features.append(new_feature)\n",
    "            new_shapes.append(new_shape)\n",
    "        elif i in merges:\n",
    "            pass\n",
    "        else:\n",
    "            new_features.append(features[i])\n",
    "            new_shapes.append(shape)\n",
    "\n",
    "    if not persisting_polygons:  # if it's the first date range\n",
    "        persisting_polygons = new_features\n",
    "    else:\n",
    "        persisting_polygons_temp = []\n",
    "        for feature in persisting_polygons:\n",
    "            if any(shapely.geometry.shape(feature['geometry']).equals(shapely.geometry.shape(current_feature['geometry'])) for current_feature in new_features):\n",
    "                persisting_polygons_temp.append(feature)\n",
    "        persisting_polygons = persisting_polygons_temp\n",
    "\n",
    "\n",
    "with fiona.open(\"output.geojson\", \"w\", driver=\"GeoJSON\", crs=\"EPSG:4326\", schema=schema) as f:\n",
    "    for feature in new_features:\n",
    "        f.write(feature)\n",
    "\n",
    "# Now persisting_polygons contains only polygons that appeared in all periods\n",
    "print(f\"Number of persisting wind turbines found: {len(persisting_polygons)}\")"
   ]
  },
  {
   "attachments": {},
   "cell_type": "markdown",
   "metadata": {},
   "source": [
    "The script simplifies polygons that are close together (within 100 meters) into single, larger polygons. This is done to reduce the complexity of the output and to group closeby objects together. The binary mask image is then read, and geometrical features (polygons) are created from areas where the mask is True.\n",
    "\n",
    "The final result is a GeoJSON file, a format for encoding a variety of geographic data structures, which contains the simplified polygons, each with its associated properties. One file holds the fraction data, and another holds the binary mask with a threshold applied. This file can be used in a geographic information system (GIS) to visualize and further analyze the results. "
   ]
  },
  {
   "cell_type": "code",
   "execution_count": 1,
   "metadata": {},
   "outputs": [
    {
     "data": {
      "image/png": "[encoded data removed]",
      "text/plain": [
       "<Figure size 1000x600 with 1 Axes>"
      ]
     },
     "metadata": {},
     "output_type": "display_data"
    }
   ],
   "source": [
    "import matplotlib.pyplot as plt\n",
    "\n",
    "elongation_thresholds = [3.0, 2.75, 2.5, 2.4, 2.3, 2.2, 2.1, 2.0, 1.5, 1.0, 0.5]\n",
    "number_of_wind_turbines = [79, 165, 285, 361, 439, 484, 525, 556, 599, 615, 615]\n",
    "\n",
    "plt.figure(figsize=(10, 6))\n",
    "plt.plot(number_of_wind_turbines, elongation_thresholds, marker='o')\n",
    "plt.title('Number of wind turbines vs Elongation threshold')\n",
    "plt.xlabel('Number of wind turbines ')\n",
    "plt.ylabel('Elongation threshold')\n",
    "plt.grid()\n",
    "plt.gca().invert_yaxis() \n",
    "plt.show()"
   ]
  },
  {
   "attachments": {},
   "cell_type": "markdown",
   "metadata": {},
   "source": [
    "\n",
    "\n"
   ]
  }
 ],
 "metadata": {
  "kernelspec": {
   "display_name": "Python 3",
   "language": "python",
   "name": "python3"
  },
  "language_info": {
   "codemirror_mode": {
    "name": "ipython",
    "version": 3
   },
   "file_extension": ".py",
   "mimetype": "text/x-python",
   "name": "python",
   "nbconvert_exporter": "python",
   "pygments_lexer": "ipython3",
   "version": "3.11.1"
  },
  "orig_nbformat": 4
 },
 "nbformat": 4,
 "nbformat_minor": 2
}
